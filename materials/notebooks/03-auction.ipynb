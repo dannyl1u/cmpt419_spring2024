{
 "cells": [
  {
   "cell_type": "code",
   "execution_count": 2,
   "metadata": {},
   "outputs": [
    {
     "name": "stdout",
     "output_type": "stream",
     "text": [
      "Agent 1 bids: 48\n",
      "Agent 2 bids: 17\n",
      "Agent 3 bids: 7\n",
      "Agent 4 bids: 73\n",
      "Agent 5 bids: 14\n",
      "\n",
      "The winner is Agent 4 with a bid of 73\n"
     ]
    }
   ],
   "source": [
    "import random\n",
    "\n",
    "class Agent:\n",
    "    def __init__(self, name, max_value):\n",
    "        self.name = name\n",
    "        self.max_value = max_value\n",
    "    \n",
    "    def make_bid(self):\n",
    "        \"\"\"Agents bid a random amount up to their max value.\"\"\"\n",
    "        return random.randint(1, self.max_value)\n",
    "\n",
    "class Auction:\n",
    "    def __init__(self):\n",
    "        self.bids = {}\n",
    "\n",
    "    def accept_bid(self, agent_name, bid_amount):\n",
    "        self.bids[agent_name] = bid_amount\n",
    "\n",
    "    def find_highest_bidder(self):\n",
    "        if not self.bids:\n",
    "            return None, None  # No bids\n",
    "        highest_bidder = max(self.bids, key=self.bids.get)\n",
    "        highest_bid = self.bids[highest_bidder]\n",
    "        return highest_bidder, highest_bid\n",
    "\n",
    "# Example usage\n",
    "agents = [Agent(f\"Agent {i}\", max_value=random.randint(50, 100)) for i in range(1, 6)]\n",
    "auction = Auction()\n",
    "\n",
    "for agent in agents:\n",
    "    bid = agent.make_bid()\n",
    "    print(f\"{agent.name} bids: {bid}\")\n",
    "    auction.accept_bid(agent.name, bid)\n",
    "\n",
    "winner, winning_bid = auction.find_highest_bidder()\n",
    "if winner:\n",
    "    print(f\"\\nThe winner is {winner} with a bid of {winning_bid}\")\n",
    "else:\n",
    "    print(\"No bids were made.\")\n"
   ]
  }
 ],
 "metadata": {
  "kernelspec": {
   "display_name": "Python 3",
   "language": "python",
   "name": "python3"
  },
  "language_info": {
   "codemirror_mode": {
    "name": "ipython",
    "version": 3
   },
   "file_extension": ".py",
   "mimetype": "text/x-python",
   "name": "python",
   "nbconvert_exporter": "python",
   "pygments_lexer": "ipython3",
   "version": "3.9.6"
  }
 },
 "nbformat": 4,
 "nbformat_minor": 2
}
